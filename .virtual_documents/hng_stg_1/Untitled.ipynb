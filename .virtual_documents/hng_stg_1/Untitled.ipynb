import pandas as pd


polling_units = pd.read_csv('polling-units.csv')
akwa_ibom_data = pd.read_csv('AKWA IBOM_crosschecked.csv')



polling_units.head()


akwa_ibom_data.head()


# renaming columns for consistency
akwa_ibom_data.rename(columns={'Ward': 'ward_name', 'PU-Name': 'polling_unit_name', 'PU-Code': 'polling_unit_code'}, inplace=True)
akwa_ibom_data.head()




# renaming columns for consistency
polling_units.rename(columns={ 'name': 'polling_unit_name','local_government_name':'LGA','state_name':'State'}, inplace=True)
polling_units.head()


# Filter just the Akwa Ibom Polling Units
akwa_ibom_polling_units = polling_units[polling_units['State'].str.contains('Akwa Ibom', case=False, na=False)]


# Display the filtered polling units for Akwa Ibom
akwa_ibom_polling_units.head()


# Merge the datasets on the common unique identifier 
merged_data = pd.merge(akwa_ibom_data, akwa_ibom_polling_units, on=['ward_name', 'LGA', 'State'], how='left')

# drop duplicate polling unit names
merged_data = merged_data.drop(columns=['polling_unit_name_y'])

# renaming again for consistency
merged_data.rename(columns={ 'polling_unit_name_x': 'polling_unit_name'}, inplace=True)

merged_data.head()



