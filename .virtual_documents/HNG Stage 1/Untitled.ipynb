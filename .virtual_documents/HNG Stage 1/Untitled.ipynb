import pandas as pd





df = pd.read_csv('HNG Stage 1/polling-units.csv')
#akwa_ibom_data = pd.read_csv('HNG Stage 1/AKWA IBOM_crosschecked.csv')



polling_units.head(), akwa_ibom_data.head()



